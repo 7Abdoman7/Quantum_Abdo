{
 "cells": [
  {
   "cell_type": "markdown",
   "metadata": {},
   "source": [
    "```markdown\n",
    "# Quantum Machine Learning with MNIST Dataset\n",
    "\n",
    "This notebook demonstrates the application of Quantum Machine Learning (QML) techniques to the MNIST dataset. We focus on classifying the digits '1' and '3' using a hybrid classical-quantum approach.\n",
    "\n",
    "## Data Preparation\n",
    "\n",
    "We start by fetching the MNIST dataset and filtering it to include only the digits '1' and '3'. The labels are then converted to binary values: '1' is mapped to 0 and '3' is mapped to 1.\n",
    "\n",
    "## Principal Component Analysis (PCA)\n",
    "\n",
    "To reduce the dimensionality of the dataset, we apply PCA. The number of components is chosen to retain 70% of the variance in the data.\n",
    "\n",
    "- **Number of components to retain 70% variance:** 17\n",
    "\n",
    "## Data Scaling\n",
    "\n",
    "The reduced dataset is split into training and testing sets. The training set is then scaled using `StandardScaler`.\n",
    "\n",
    "## Quantum Kernel\n",
    "\n",
    "A quantum kernel is defined using the `pennylane` library. The kernel function computes the inner product of quantum states.\n",
    "\n",
    "## Model Training\n",
    "\n",
    "### Classical SVM\n",
    "\n",
    "A classical Support Vector Machine (SVM) is trained on a sampled subset of the training data.\n",
    "\n",
    "- **Accuracy of SVM:** 0.9760319573901465\n",
    "\n",
    "### Quantum SVM\n",
    "\n",
    "A quantum SVM is trained using the quantum kernel. The hyperparameters are optimized using `RandomizedSearchCV`.\n",
    "\n",
    "- **Best Parameters:** {'random_state': 42, 'probability': False, 'kernel': <function kernel_mat at 0x0000023B706E90D0>, 'gamma': 7.1, 'C': 7.3}\n",
    "- **Accuracy of QML SVM:** 0.5033288948069241\n",
    "\n",
    "## Conclusion\n",
    "\n",
    "The classical SVM outperforms the quantum SVM in this experiment. Further optimization and experimentation with different quantum kernels and larger datasets may improve the performance of the quantum approach.\n",
    "```"
   ]
  },
  {
   "cell_type": "code",
   "execution_count": null,
   "metadata": {},
   "outputs": [],
   "source": [
    "# importing libraries\n",
    "import pennylane as qml\n",
    "from sklearn.datasets import fetch_openml\n",
    "from sklearn.decomposition import PCA\n",
    "from sklearn.model_selection import train_test_split\n",
    "from sklearn.preprocessing import StandardScaler\n",
    "from sklearn.svm import SVC\n",
    "from sklearn.model_selection import cross_val_score\n",
    "from sklearn.model_selection import RandomizedSearchCV\n",
    "from sklearn.metrics import accuracy_score\n",
    "import numpy as np\n",
    "import pandas as pd\n",
    "import seaborn as sns\n",
    "import matplotlib.pyplot as plt"
   ]
  },
  {
   "cell_type": "code",
   "execution_count": null,
   "metadata": {},
   "outputs": [],
   "source": [
    "# importing dataset\n",
    "mnist = fetch_openml('mnist_784', version=1)\n",
    "X, y = mnist.data, mnist.target\n",
    "\n",
    "# filtering dataset\n",
    "X_filtered = X[(y == '1') | (y == '3')]\n",
    "y_filtered = y[(y == '1') | (y == '3')]\n",
    "\n",
    "# mapping labels to 0 and 1\n",
    "y_filtered = np.where((y_filtered == '1'), 0, 1)"
   ]
  },
  {
   "cell_type": "code",
   "execution_count": null,
   "metadata": {},
   "outputs": [
    {
     "name": "stdout",
     "output_type": "stream",
     "text": [
      "Number of components to retain 70% variance: 17\n"
     ]
    }
   ],
   "source": [
    "pca = PCA()\n",
    "pca.fit(X_filtered)\n",
    "\n",
    "# splitting dataset\n",
    "explained_variance_ratio = pca.explained_variance_ratio_\n",
    "cumulative_variance = np.cumsum(explained_variance_ratio)\n",
    "n_components = np.argmax(cumulative_variance >= 0.70) + 1 \n",
    "\n",
    "print(f\"Number of components to retain 70% variance: {n_components}\")"
   ]
  },
  {
   "cell_type": "code",
   "execution_count": null,
   "metadata": {},
   "outputs": [
    {
     "data": {
      "image/png": "[encoded data removed]",
      "text/plain": [
       "<Figure size 640x480 with 1 Axes>"
      ]
     },
     "metadata": {},
     "output_type": "display_data"
    }
   ],
   "source": [
    "# applying PCA\n",
    "pca_reduced = PCA(n_components=n_components)\n",
    "X_reduced = pca_reduced.fit_transform(X_filtered)\n",
    "\n",
    "# plotting explained variance ratio\n",
    "sns.barplot(x=np.arange(1, n_components+1), y=pca_reduced.explained_variance_ratio_)\n",
    "plt.xlabel('Principal Component')\n",
    "plt.ylabel('Explained Variance')\n",
    "plt.title('Explained Variance Ratio of Principal Components')\n",
    "plt.show()"
   ]
  },
  {
   "cell_type": "code",
   "execution_count": null,
   "metadata": {},
   "outputs": [],
   "source": [
    "# splitting dataset into training and testing sets\n",
    "X_train, X_test, y_train, y_test = train_test_split(X_reduced, y_filtered, test_size=0.2, random_state=42)\n",
    "\n",
    "# scaling dataset\n",
    "scaler = StandardScaler()\n",
    "X_train_scaled = scaler.fit_transform(X_train)\n",
    "X_test_scaled = scaler.transform(X_test)"
   ]
  },
  {
   "cell_type": "code",
   "execution_count": null,
   "metadata": {},
   "outputs": [],
   "source": [
    "n_qubit = n_components\n",
    "\n",
    "# defining quantum kernel\n",
    "dev = qml.device('default.qubit', wires=n_qubit)\n",
    "@qml.qnode(dev)\n",
    "def kernel(x1, x2, n_qubit):\n",
    "    qml.AngleEmbedding(x1, wires=range(n_qubit)) # encoding x1 into quantum state using AngleEmbedding\n",
    "    qml.adjoint(qml.AngleEmbedding)(x2, wires=range(n_qubit))\n",
    "    return qml.expval(qml.Projector([0]*n_qubit, wires=range(n_qubit))) # computing the expectation value of the projector"
   ]
  },
  {
   "cell_type": "code",
   "execution_count": 18,
   "metadata": {},
   "outputs": [],
   "source": [
    "def kernel_mat(A, B, n_qubit):\n",
    "    \"\"\"\n",
    "    Computes the kernel matrix for two sets of input data using a specified kernel function.\n",
    "\n",
    "    Parameters:\n",
    "    A (array-like): First set of input data.\n",
    "    B (array-like): Second set of input data.\n",
    "    n_qubit (int): Number of qubits used in the kernel function.\n",
    "\n",
    "    Returns:\n",
    "    np.ndarray: Kernel matrix computed from the input data.\n",
    "    \"\"\"\n",
    "    mat = []\n",
    "    \n",
    "    # Iterate over each element in the first set of input data\n",
    "    for a in A:\n",
    "        row = []\n",
    "        \n",
    "        # Iterate over each element in the second set of input data\n",
    "        for b in B:\n",
    "            # Compute the kernel value for the pair (a, b) and append to the row\n",
    "            row.append(kernel(a, b, n_qubit))\n",
    "        \n",
    "        # Append the row to the matrix\n",
    "        mat.append(row)\n",
    "    \n",
    "    # Convert the list of lists to a numpy array and return\n",
    "    return np.array(mat)"
   ]
  },
  {
   "cell_type": "code",
   "execution_count": null,
   "metadata": {},
   "outputs": [],
   "source": [
    "\n",
    "size_QML = 5\n",
    "\n",
    "idx_0 = np.where(y_train == 0)[0]\n",
    "idx_1 = np.where(y_train == 1)[0]\n",
    "\n",
    "idx_0_sampled = np.random.choice(idx_0, size=size_QML, replace=False)\n",
    "idx_1_sampled = np.random.choice(idx_1, size=size_QML, replace=False)\n",
    "\n",
    "sampled_indices = np.concatenate([idx_0_sampled, idx_1_sampled])\n",
    "\n",
    "X_train_sampled = X_train[sampled_indices]\n",
    "y_train_sampled = y_train[sampled_indices]"
   ]
  },
  {
   "cell_type": "code",
   "execution_count": 8,
   "metadata": {},
   "outputs": [
    {
     "name": "stdout",
     "output_type": "stream",
     "text": [
      "best params: {'random_state': 42, 'probability': False, 'kernel': <function kernel_mat at 0x0000023B706E90D0>, 'gamma': 7.1, 'C': 7.3}\n"
     ]
    }
   ],
   "source": [
    "params = {\n",
    "    'C': np.linspace(0.1, 10, 100), \n",
    "    'gamma': np.linspace(0.1, 10, 100), \n",
    "    'kernel': [kernel_mat], \n",
    "    'random_state': [42],\n",
    "    'probability': [False],\n",
    "}\n",
    "\n",
    "svm_temp = RandomizedSearchCV(SVC(), param_distributions=params, n_iter=10, random_state=42)\n",
    "svm_temp.fit(X_train_sampled, y_train_sampled)\n",
    "best_params = svm_temp.best_params_\n",
    "print(f'best params: {svm_temp.best_params_}')"
   ]
  },
  {
   "cell_type": "code",
   "execution_count": 9,
   "metadata": {},
   "outputs": [],
   "source": [
    "size_QML = 15\n",
    "\n",
    "idx_0 = np.where(y_train == 0)[0]\n",
    "idx_1 = np.where(y_train == 1)[0]\n",
    "\n",
    "idx_0_sampled = np.random.choice(idx_0, size=size_QML, replace=False)\n",
    "idx_1_sampled = np.random.choice(idx_1, size=size_QML, replace=False)\n",
    "\n",
    "sampled_indices = np.concatenate([idx_0_sampled, idx_1_sampled])\n",
    "\n",
    "X_train_sampled = X_train[sampled_indices]\n",
    "y_train_sampled = y_train[sampled_indices]"
   ]
  },
  {
   "cell_type": "code",
   "execution_count": 10,
   "metadata": {},
   "outputs": [
    {
     "name": "stdout",
     "output_type": "stream",
     "text": [
      "Accuracy of QML SVM: 0.5033288948069241\n"
     ]
    }
   ],
   "source": [
    "svm_QML = SVC(**best_params)\n",
    "svm_QML.fit(X_train_sampled, y_train_sampled)\n",
    "y_pred_QML = svm_QML.predict(X_test)\n",
    "accuracy_QML = accuracy_score(y_test, y_pred_QML)\n",
    "print(f\"Accuracy of QML SVM: {accuracy_QML}\")"
   ]
  },
  {
   "cell_type": "code",
   "execution_count": 11,
   "metadata": {},
   "outputs": [
    {
     "name": "stdout",
     "output_type": "stream",
     "text": [
      "Accuracy of SVM: 0.9760319573901465\n"
     ]
    }
   ],
   "source": [
    "size = 15\n",
    "\n",
    "idx_0 = np.where(y_train == 0)[0]\n",
    "idx_1 = np.where(y_train == 1)[0]\n",
    "\n",
    "idx_0_sampled = np.random.choice(idx_0, size=size, replace=False)\n",
    "idx_1_sampled = np.random.choice(idx_1, size=size, replace=False)\n",
    "\n",
    "sampled_indices = np.concatenate([idx_0_sampled, idx_1_sampled])\n",
    "\n",
    "X_train_sampled = X_train[sampled_indices]\n",
    "y_train_sampled = y_train[sampled_indices]\n",
    "\n",
    "\n",
    "svm = SVC()\n",
    "svm.fit(X_train_sampled, y_train_sampled)\n",
    "y_pred = svm.predict(X_test)\n",
    "accuracy = accuracy_score(y_test, y_pred)\n",
    "print(f\"Accuracy of SVM: {accuracy}\")"
   ]
  }
 ],
 "metadata": {
  "kernelspec": {
   "display_name": "Quantum",
   "language": "python",
   "name": "python3"
  },
  "language_info": {
   "codemirror_mode": {
    "name": "ipython",
    "version": 3
   },
   "file_extension": ".py",
   "mimetype": "text/x-python",
   "name": "python",
   "nbconvert_exporter": "python",
   "pygments_lexer": "ipython3",
   "version": "3.9.13"
  }
 },
 "nbformat": 4,
 "nbformat_minor": 2
}
