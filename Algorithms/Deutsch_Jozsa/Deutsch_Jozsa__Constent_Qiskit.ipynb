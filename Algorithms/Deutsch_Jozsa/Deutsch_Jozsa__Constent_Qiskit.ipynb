{
  "cells": [
    {
      "cell_type": "code",
      "execution_count": 18,
      "metadata": {
        "id": "rHEn1ZU99aIj"
      },
      "outputs": [],
      "source": [
        "from qiskit import QuantumRegister, ClassicalRegister, QuantumCircuit, transpile\n",
        "from qiskit_aer import Aer\n",
        "import matplotlib.pyplot as plt\n",
        "import numpy as np"
      ]
    },
    {
      "cell_type": "code",
      "execution_count": 19,
      "metadata": {
        "id": "ha3d0QpV9cLq"
      },
      "outputs": [],
      "source": [
        "def get_state_vector(qc):\n",
        "    sim = Aer.get_backend('aer_simulator')\n",
        "    qc.save_statevector()\n",
        "\n",
        "    compiled_circuit = transpile(qc, sim)\n",
        "    result = sim.run(compiled_circuit).result()\n",
        "\n",
        "    state = result.get_statevector()\n",
        "\n",
        "    return state\n",
        "\n",
        "state_vectors = []"
      ]
    },
    {
      "cell_type": "code",
      "execution_count": 20,
      "metadata": {
        "colab": {
          "base_uri": "https://localhost:8080/",
          "height": 384
        },
        "collapsed": true,
        "id": "RMArH862T6lO",
        "outputId": "4cfe5baf-7089-4673-eb77-fd3aad3b6e65"
      },
      "outputs": [
        {
          "data": {
            "image/png": "[encoded data removed]",
            "text/plain": [
              "<Figure size 658.402x451.5 with 1 Axes>"
            ]
          },
          "execution_count": 20,
          "metadata": {},
          "output_type": "execute_result"
        }
      ],
      "source": [
        "qreg = QuantumRegister(4)\n",
        "creg = ClassicalRegister(4, \"creg\")\n",
        "qc = QuantumCircuit(qreg, creg)\n",
        "\n",
        "qc.x(qreg[3])\n",
        "state_vectors.append(get_state_vector(qc.copy()))\n",
        "\n",
        "qc.h(qreg[0])\n",
        "state_vectors.append(get_state_vector(qc.copy()))\n",
        "\n",
        "qc.h(qreg[1])\n",
        "state_vectors.append(get_state_vector(qc.copy()))\n",
        "\n",
        "qc.h(qreg[2])\n",
        "state_vectors.append(get_state_vector(qc.copy()))\n",
        "\n",
        "qc.h(qreg[3])\n",
        "state_vectors.append(get_state_vector(qc.copy()))\n",
        "\n",
        "qc.x(qreg[3])\n",
        "state_vectors.append(get_state_vector(qc.copy()))\n",
        "\n",
        "qc.h(qreg[0])\n",
        "state_vectors.append(get_state_vector(qc.copy()))\n",
        "\n",
        "qc.h(qreg[1])\n",
        "state_vectors.append(get_state_vector(qc.copy()))\n",
        "\n",
        "qc.h(qreg[2])\n",
        "state_vectors.append(get_state_vector(qc.copy()))\n",
        "\n",
        "qc.measure(qreg[0], creg[0])\n",
        "qc.measure(qreg[1], creg[1])\n",
        "qc.measure(qreg[2], creg[2])\n",
        "\n",
        "qc.draw(output='mpl')"
      ]
    },
    {
      "cell_type": "code",
      "execution_count": 21,
      "metadata": {
        "colab": {
          "base_uri": "https://localhost:8080/"
        },
        "id": "I04_9MdI9f1P",
        "outputId": "68b6cdc7-fc2e-4a33-9363-0e071f632e12"
      },
      "outputs": [
        {
          "name": "stdout",
          "output_type": "stream",
          "text": [
            "State Vectors and Probabilities:\n",
            "State Vector 1:\n",
            "|0001⟩: Coefficient = 1.000+0.000j, Probability = 1.000\n",
            "\n",
            "\n",
            "State Vector 2:\n",
            "|0001⟩: Coefficient = 0.707+0.000j, Probability = 0.500\n",
            "|1001⟩: Coefficient = 0.707+0.000j, Probability = 0.500\n",
            "\n",
            "\n",
            "State Vector 3:\n",
            "|0001⟩: Coefficient = 0.500+0.000j, Probability = 0.250\n",
            "|1001⟩: Coefficient = 0.500+0.000j, Probability = 0.250\n",
            "|0101⟩: Coefficient = 0.500+0.000j, Probability = 0.250\n",
            "|1101⟩: Coefficient = 0.500+0.000j, Probability = 0.250\n",
            "\n",
            "\n",
            "State Vector 4:\n",
            "|0001⟩: Coefficient = 0.354+0.000j, Probability = 0.125\n",
            "|1001⟩: Coefficient = 0.354+0.000j, Probability = 0.125\n",
            "|0101⟩: Coefficient = 0.354+0.000j, Probability = 0.125\n",
            "|1101⟩: Coefficient = 0.354+0.000j, Probability = 0.125\n",
            "|0011⟩: Coefficient = 0.354+0.000j, Probability = 0.125\n",
            "|1011⟩: Coefficient = 0.354+0.000j, Probability = 0.125\n",
            "|0111⟩: Coefficient = 0.354+0.000j, Probability = 0.125\n",
            "|1111⟩: Coefficient = 0.354+0.000j, Probability = 0.125\n",
            "\n",
            "\n",
            "State Vector 5:\n",
            "|0000⟩: Coefficient = 0.250+0.000j, Probability = 0.063\n",
            "|1000⟩: Coefficient = 0.250+0.000j, Probability = 0.063\n",
            "|0100⟩: Coefficient = 0.250+0.000j, Probability = 0.063\n",
            "|1100⟩: Coefficient = 0.250+0.000j, Probability = 0.062\n",
            "|0010⟩: Coefficient = 0.250+0.000j, Probability = 0.063\n",
            "|1010⟩: Coefficient = 0.250+0.000j, Probability = 0.062\n",
            "|0110⟩: Coefficient = 0.250+0.000j, Probability = 0.062\n",
            "|1110⟩: Coefficient = 0.250+0.000j, Probability = 0.062\n",
            "|0001⟩: Coefficient = -0.250-0.000j, Probability = 0.063\n",
            "|1001⟩: Coefficient = -0.250-0.000j, Probability = 0.062\n",
            "|0101⟩: Coefficient = -0.250-0.000j, Probability = 0.062\n",
            "|1101⟩: Coefficient = -0.250-0.000j, Probability = 0.062\n",
            "|0011⟩: Coefficient = -0.250-0.000j, Probability = 0.062\n",
            "|1011⟩: Coefficient = -0.250-0.000j, Probability = 0.062\n",
            "|0111⟩: Coefficient = -0.250-0.000j, Probability = 0.062\n",
            "|1111⟩: Coefficient = -0.250-0.000j, Probability = 0.062\n",
            "\n",
            "\n",
            "State Vector 6:\n",
            "|0000⟩: Coefficient = -0.250+0.000j, Probability = 0.063\n",
            "|1000⟩: Coefficient = -0.250+0.000j, Probability = 0.063\n",
            "|0100⟩: Coefficient = -0.250+0.000j, Probability = 0.063\n",
            "|1100⟩: Coefficient = -0.250+0.000j, Probability = 0.062\n",
            "|0010⟩: Coefficient = -0.250+0.000j, Probability = 0.063\n",
            "|1010⟩: Coefficient = -0.250+0.000j, Probability = 0.062\n",
            "|0110⟩: Coefficient = -0.250+0.000j, Probability = 0.062\n",
            "|1110⟩: Coefficient = -0.250+0.000j, Probability = 0.062\n",
            "|0001⟩: Coefficient = 0.250-0.000j, Probability = 0.063\n",
            "|1001⟩: Coefficient = 0.250+0.000j, Probability = 0.062\n",
            "|0101⟩: Coefficient = 0.250+0.000j, Probability = 0.062\n",
            "|1101⟩: Coefficient = 0.250+0.000j, Probability = 0.062\n",
            "|0011⟩: Coefficient = 0.250+0.000j, Probability = 0.062\n",
            "|1011⟩: Coefficient = 0.250+0.000j, Probability = 0.062\n",
            "|0111⟩: Coefficient = 0.250+0.000j, Probability = 0.062\n",
            "|1111⟩: Coefficient = 0.250+0.000j, Probability = 0.062\n",
            "\n",
            "\n",
            "State Vector 7:\n",
            "|0000⟩: Coefficient = -0.354+0.000j, Probability = 0.125\n",
            "|0100⟩: Coefficient = -0.354+0.000j, Probability = 0.125\n",
            "|0010⟩: Coefficient = -0.354+0.000j, Probability = 0.125\n",
            "|0110⟩: Coefficient = -0.354+0.000j, Probability = 0.125\n",
            "|0001⟩: Coefficient = 0.354+0.000j, Probability = 0.125\n",
            "|0101⟩: Coefficient = 0.354+0.000j, Probability = 0.125\n",
            "|0011⟩: Coefficient = 0.354+0.000j, Probability = 0.125\n",
            "|0111⟩: Coefficient = 0.354-0.000j, Probability = 0.125\n",
            "\n",
            "\n",
            "State Vector 8:\n",
            "|0000⟩: Coefficient = -0.500+0.000j, Probability = 0.250\n",
            "|0010⟩: Coefficient = -0.500+0.000j, Probability = 0.250\n",
            "|0001⟩: Coefficient = 0.500+0.000j, Probability = 0.250\n",
            "|0011⟩: Coefficient = 0.500+0.000j, Probability = 0.250\n",
            "\n",
            "\n",
            "State Vector 9:\n",
            "|0000⟩: Coefficient = -0.707+0.000j, Probability = 0.500\n",
            "|0001⟩: Coefficient = 0.707+0.000j, Probability = 0.500\n",
            "\n",
            "\n"
          ]
        }
      ],
      "source": [
        "print(\"State Vectors and Probabilities:\")\n",
        "for i, state_vector in enumerate(state_vectors):\n",
        "    state_array = np.array(state_vector)\n",
        "    num_qubits = int(np.log2(len(state_array)))\n",
        "\n",
        "    print(f\"State Vector {i + 1}:\")\n",
        "    for idx, amplitude in enumerate(state_array):\n",
        "        binary_state = format(idx, '0' + str(num_qubits) + 'b')[::-1]\n",
        "        probability = np.abs(amplitude)**2\n",
        "        if probability > 1e-4:\n",
        "            print(f\"|{binary_state}⟩: Coefficient = {amplitude:.3f}, Probability = {probability:.3f}\")\n",
        "    print(\"\\n\")"
      ]
    },
    {
      "cell_type": "code",
      "execution_count": 22,
      "metadata": {
        "colab": {
          "base_uri": "https://localhost:8080/",
          "height": 663
        },
        "id": "nIcJ1glPgQ54",
        "outputId": "8440a2e8-2500-467b-d226-a5f7f1bb24f7"
      },
      "outputs": [
        {
          "name": "stderr",
          "output_type": "stream",
          "text": [
            "<ipython-input-22-cdafeaf98f11>:1: DeprecationWarning: The return type of saved statevectors has been changed from a `numpy.ndarray` to a `qiskit.quantum_info.Statevector` as of qiskit-aer 0.10. Accessing numpy array attributes is deprecated and will result in an error in a future release. To continue using saved result objects as arrays you can explicitly cast them using  `np.asarray(object)`.\n",
            "  probabilities = {f\"⟨{format(idx, '0' + str(4) + 'b')}|\": np.abs(state_vectors[-1][idx])**2 for idx in range(len(state_vectors[-1]))}\n"
          ]
        },
        {
          "data": {
            "image/png": "[encoded data removed]",
            "text/plain": [
              "<Figure size 800x600 with 1 Axes>"
            ]
          },
          "metadata": {},
          "output_type": "display_data"
        }
      ],
      "source": [
        "probabilities = {f\"⟨{format(idx, '0' + str(4) + 'b')}|\": np.abs(state_vectors[-1][idx])**2 for idx in range(len(state_vectors[-1]))}\n",
        "\n",
        "plt.figure(figsize=(8, 6))\n",
        "plt.bar(probabilities.keys(), probabilities.values())\n",
        "plt.xlabel(\"State\")\n",
        "plt.ylabel(\"Probability\")\n",
        "plt.title(\"Probabilities\")\n",
        "plt.xticks(rotation=90, ha=\"right\", fontsize=8)\n",
        "plt.tight_layout()\n",
        "plt.show()"
      ]
    }
  ],
  "metadata": {
    "colab": {
      "provenance": []
    },
    "kernelspec": {
      "display_name": "Python 3",
      "name": "python3"
    },
    "language_info": {
      "name": "python"
    }
  },
  "nbformat": 4,
  "nbformat_minor": 0
}
