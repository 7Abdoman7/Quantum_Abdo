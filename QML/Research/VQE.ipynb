{
 "cells": [
  {
   "cell_type": "code",
   "execution_count": 12,
   "metadata": {},
   "outputs": [],
   "source": [
    "import numpy as np\n",
    "from qiskit import QuantumCircuit\n",
    "from qiskit_aer.primitives import Estimator as AerEstimator\n",
    "from qiskit.quantum_info import SparsePauliOp\n",
    "from qiskit.circuit import Parameter\n",
    "from scipy.optimize import minimize\n",
    "import time"
   ]
  },
  {
   "cell_type": "code",
   "execution_count": 13,
   "metadata": {},
   "outputs": [],
   "source": [
    "def create_hamiltonian():\n",
    "    \"\"\"Creates the Hamiltonian operator using SparsePauliOp.\"\"\"\n",
    "    # H = -0.81 * II + 0.17 * ZZ + 0.045 * XX - 0.045 * YY (Original H2 example)\n",
    "    pauli_list = [(\"II\", -0.81), (\"ZZ\", 0.17), (\"XX\", 0.045), (\"YY\", -0.045)]\n",
    "\n",
    "    hamiltonian = SparsePauliOp.from_list(pauli_list)\n",
    "    print(f\"Hamiltonian:\\n{hamiltonian}\")\n",
    "    \n",
    "    return hamiltonian"
   ]
  },
  {
   "cell_type": "code",
   "execution_count": 14,
   "metadata": {},
   "outputs": [],
   "source": [
    "num_params = 5 \n",
    "theta = [Parameter(f'θ{i}') for i in range(num_params)]"
   ]
  },
  {
   "cell_type": "code",
   "execution_count": 15,
   "metadata": {},
   "outputs": [],
   "source": [
    "def uccsd_ansatz():\n",
    "    \"\"\"\n",
    "    Implements a simplified UCCSD-like ansatz circuit for 2 qubits\n",
    "    using Parameter objects.\n",
    "    Returns:\n",
    "        QuantumCircuit: The parameterized ansatz circuit template.\n",
    "    \"\"\"\n",
    "    num_qubits = 2\n",
    "    circuit = QuantumCircuit(num_qubits)\n",
    "\n",
    "    circuit.rx(theta[0], 0)\n",
    "    circuit.rz(theta[1], 0)\n",
    "    circuit.rx(theta[2], 1)\n",
    "    circuit.rz(theta[3], 1)\n",
    "    circuit.cx(0, 1)\n",
    "    circuit.ry(theta[4], 1)\n",
    "    circuit.cx(0, 1)\n",
    "    circuit.barrier()\n",
    "\n",
    "    print(f\"Ansatz created with {circuit.num_parameters} parameters.\") \n",
    "    return circuit"
   ]
  },
  {
   "cell_type": "code",
   "execution_count": 16,
   "metadata": {},
   "outputs": [
    {
     "name": "stdout",
     "output_type": "stream",
     "text": [
      "Ansatz created with 5 parameters.\n"
     ]
    }
   ],
   "source": [
    "iteration_count = 0\n",
    "ansatz_template = uccsd_ansatz()"
   ]
  },
  {
   "cell_type": "code",
   "execution_count": 17,
   "metadata": {},
   "outputs": [],
   "source": [
    "def calculate_expectation(params, hamiltonian, estimator, callback_dict):\n",
    "    \"\"\"\n",
    "    Calculates the expectation value using the Estimator primitive.\n",
    "    Args:\n",
    "        params (np.array): Current parameters from the optimizer.\n",
    "        hamiltonian (SparsePauliOp): The Hamiltonian operator.\n",
    "        estimator (BaseEstimator): The Qiskit Estimator primitive.\n",
    "        callback_dict (dict): Dictionary to store intermediate results for tracking.\n",
    "    Returns:\n",
    "        float: The calculated expectation value (energy).\n",
    "    \"\"\"\n",
    "    global iteration_count\n",
    "    iteration_count += 1\n",
    "\n",
    "    job = estimator.run(\n",
    "        circuits=[ansatz_template],    \n",
    "        observables=[hamiltonian],\n",
    "        parameter_values=[params]      \n",
    "    )\n",
    "    result = job.result() \n",
    "\n",
    "    expectation_value = result.values[0]\n",
    "\n",
    "    callback_dict['params'].append(params)\n",
    "    callback_dict['energy'].append(expectation_value)\n",
    "    if iteration_count % 10 == 0: \n",
    "       print(f\"Iteration: {iteration_count}, Energy: {expectation_value:.6f}, Params: {np.round(params, 3)}\")\n",
    "\n",
    "    return expectation_value"
   ]
  },
  {
   "cell_type": "code",
   "execution_count": 18,
   "metadata": {},
   "outputs": [],
   "source": [
    "def vqe_optimization(hamiltonian, estimator):\n",
    "    \"\"\"\n",
    "    Runs the VQE optimization loop.\n",
    "    Args:\n",
    "        hamiltonian (SparsePauliOp): The Hamiltonian.\n",
    "        estimator (BaseEstimator): The Qiskit Estimator primitive.\n",
    "    Returns:\n",
    "        OptimizeResult: The result object from scipy.optimize.minimize.\n",
    "    \"\"\"\n",
    "    initial_params = np.random.rand(num_params) * 2 * np.pi\n",
    "\n",
    "    print(f\"Number of parameters in ansatz: {ansatz_template.num_parameters}\") \n",
    "    print(f\"Number of parameters for optimizer: {num_params}\")\n",
    "    assert ansatz_template.num_parameters == num_params \n",
    "\n",
    "    print(f\"Initial parameters: {initial_params}\")\n",
    "\n",
    "    callback_dict = {'params': [], 'energy': []}\n",
    "\n",
    "    start_time = time.time()\n",
    "    result = minimize(\n",
    "        fun=calculate_expectation,     \n",
    "        x0=initial_params,              \n",
    "        args=(hamiltonian, estimator, callback_dict),\n",
    "        method=\"COBYLA\",\n",
    "        options={'maxiter': 200, 'disp': False} \n",
    "    )\n",
    "    end_time = time.time()\n",
    "    print(f\"\\nOptimization finished in {end_time - start_time:.2f} seconds.\")\n",
    "\n",
    "    result.intermediate_info = callback_dict\n",
    "\n",
    "    return result"
   ]
  },
  {
   "cell_type": "code",
   "execution_count": null,
   "metadata": {},
   "outputs": [
    {
     "name": "stdout",
     "output_type": "stream",
     "text": [
      "Hamiltonian:\n",
      "SparsePauliOp(['II', 'ZZ', 'XX', 'YY'],\n",
      "              coeffs=[-0.81 +0.j,  0.17 +0.j,  0.045+0.j, -0.045+0.j])\n",
      "\n",
      "Starting VQE Optimization...\n",
      "Number of parameters in ansatz: 5\n",
      "Number of parameters for optimizer: 5\n",
      "Initial parameters: [3.6579906  1.35680848 3.13614341 5.84839409 4.57997446]\n",
      "Iteration: 10, Energy: -0.871826, Params: [5.172 0.959 2.36  5.797 4.393]\n",
      "Iteration: 20, Energy: -0.973594, Params: [5.163 0.75  1.686 4.4   4.857]\n",
      "Iteration: 30, Energy: -0.974434, Params: [5.186 0.779 1.636 4.624 5.007]\n",
      "Iteration: 40, Energy: -0.972500, Params: [5.068 0.82  1.577 4.587 5.013]\n",
      "Iteration: 50, Energy: -0.976436, Params: [5.057 0.813 1.584 4.586 5.008]\n",
      "Iteration: 60, Energy: -0.969639, Params: [5.058 0.812 1.584 4.586 5.007]\n",
      "Iteration: 70, Energy: -0.973896, Params: [5.058 0.812 1.584 4.586 5.007]\n",
      "\n",
      "Optimization finished in 1.60 seconds.\n",
      "\n",
      "--- VQE Results ---\n",
      "Optimized parameters: [5.05797541 0.81218177 1.58357115 4.58640547 5.00655218]\n",
      "Final ground state energy: -0.973896\n"
     ]
    }
   ],
   "source": [
    "if __name__ == \"__main__\":\n",
    "    aer_estimator = AerEstimator(\n",
    "        run_options={\"shots\": 1024},\n",
    "        transpile_options={\"optimization_level\": 0}\n",
    "    )\n",
    "\n",
    "    hamiltonian_op = create_hamiltonian()\n",
    "\n",
    "    print(\"\\nStarting VQE Optimization...\")\n",
    "    vqe_result = vqe_optimization(hamiltonian_op, aer_estimator)\n",
    "\n",
    "    print(\"\\n--- VQE Results ---\")\n",
    "    print(f\"Optimized parameters: {vqe_result.x}\")\n",
    "    print(f\"Final ground state energy: {vqe_result.fun:.6f}\")\n"
   ]
  },
  {
   "cell_type": "code",
   "execution_count": 20,
   "metadata": {},
   "outputs": [
    {
     "name": "stdout",
     "output_type": "stream",
     "text": [
      "Exact Ground State Energy: -0.980000\n"
     ]
    }
   ],
   "source": [
    "pauli_list = [(\"II\", -0.81), (\"ZZ\", 0.17), (\"XX\", 0.045), (\"YY\", -0.045)]\n",
    "hamiltonian_op = SparsePauliOp.from_list(pauli_list)\n",
    "matrix = hamiltonian_op.to_matrix()\n",
    "eigenvalues, _ = np.linalg.eigh(matrix) \n",
    "exact_ground_state_energy = np.min(eigenvalues)\n",
    "print(f\"Exact Ground State Energy: {exact_ground_state_energy.real:.6f}\")"
   ]
  }
 ],
 "metadata": {
  "kernelspec": {
   "display_name": "Python 3",
   "language": "python",
   "name": "python3"
  },
  "language_info": {
   "codemirror_mode": {
    "name": "ipython",
    "version": 3
   },
   "file_extension": ".py",
   "mimetype": "text/x-python",
   "name": "python",
   "nbconvert_exporter": "python",
   "pygments_lexer": "ipython3",
   "version": "3.10.12"
  }
 },
 "nbformat": 4,
 "nbformat_minor": 2
}
